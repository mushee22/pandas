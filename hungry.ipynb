{
 "cells": [
  {
   "cell_type": "code",
   "execution_count": 2,
   "metadata": {},
   "outputs": [
    {
     "name": "stdout",
     "output_type": "stream",
     "text": [
      "! Am I Hungry !\n",
      "---------------\n",
      "Yes/Noyes\n",
      "Yes Your Hungry\n"
     ]
    }
   ],
   "source": [
    "print(\"! Am I Hungry !\")\n",
    "print(\"---------------\")\n",
    "r=input('Yes/No')\n",
    "if r=='yes':\n",
    "    print('Yes Your Hungry')\n",
    "else:\n",
    "    print(\"No Just Do Somthing\")"
   ]
  },
  {
   "cell_type": "code",
   "execution_count": null,
   "metadata": {},
   "outputs": [],
   "source": []
  }
 ],
 "metadata": {
  "kernelspec": {
   "display_name": "Python 3",
   "language": "python",
   "name": "python3"
  },
  "language_info": {
   "codemirror_mode": {
    "name": "ipython",
    "version": 3
   },
   "file_extension": ".py",
   "mimetype": "text/x-python",
   "name": "python",
   "nbconvert_exporter": "python",
   "pygments_lexer": "ipython3",
   "version": "3.7.1"
  }
 },
 "nbformat": 4,
 "nbformat_minor": 2
}
